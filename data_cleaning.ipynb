{
 "cells": [
  {
   "cell_type": "markdown",
   "source": [
    "# Data Cleaning Process"
   ],
   "metadata": {
    "collapsed": false
   },
   "id": "4c26c7889763d5d6"
  },
  {
   "cell_type": "code",
   "outputs": [],
   "source": [
    "import pandas as pd\n",
    "import numpy as np\n",
    "import matplotlib.pyplot as plt\n",
    "import seaborn as sns\n",
    "from sklearn.model_selection import train_test_split\n",
    "\n",
    "client_id = 'f6f485a58a874bf7262e6cb82d75d02d'\n",
    "client_secret = '473929cdb4db6b1e381189d707542c9a7b11259b'"
   ],
   "metadata": {
    "collapsed": false,
    "ExecuteTime": {
     "end_time": "2025-07-25T21:16:25.077754Z",
     "start_time": "2025-07-25T21:16:22.802004Z"
    }
   },
   "id": "4273a54895be57e7",
   "execution_count": 4
  },
  {
   "cell_type": "code",
   "outputs": [],
   "source": [
    "import requests\n",
    "# Step 1: Exchange code for token\n",
    "def get_access_token(code):\n",
    "    url = \"https://broker-api.sandbox.alpaca.markets/oauth/token\"\n",
    "    data = {\n",
    "        \"grant_type\": \"authorization_code\",\n",
    "        \"code\": code,\n",
    "        \"client_id\": client_id,\n",
    "        \"client_secret\": client_secret,\n",
    "        \"redirect_uri\": \"https://broker-api.sandbox.alpaca.markets/oauth/authorize?response_type=code&client_id=YOUR_CLIENT_ID&redirect_uri=YOUR_CALLBACK_URL&scope=account:write%20trading\"\n",
    "    }\n",
    "    response = requests.post(url, data=data)\n",
    "    return response.json()"
   ],
   "metadata": {
    "collapsed": false,
    "ExecuteTime": {
     "end_time": "2025-07-19T16:56:25.520607Z",
     "start_time": "2025-07-19T16:56:25.510665Z"
    }
   },
   "id": "181db511f6877843",
   "execution_count": 3
  },
  {
   "cell_type": "code",
   "outputs": [],
   "source": [],
   "metadata": {
    "collapsed": false
   },
   "id": "b4e496a3c2953741"
  }
 ],
 "metadata": {
  "kernelspec": {
   "display_name": "Python 3",
   "language": "python",
   "name": "python3"
  },
  "language_info": {
   "codemirror_mode": {
    "name": "ipython",
    "version": 2
   },
   "file_extension": ".py",
   "mimetype": "text/x-python",
   "name": "python",
   "nbconvert_exporter": "python",
   "pygments_lexer": "ipython2",
   "version": "2.7.6"
  }
 },
 "nbformat": 4,
 "nbformat_minor": 5
}
